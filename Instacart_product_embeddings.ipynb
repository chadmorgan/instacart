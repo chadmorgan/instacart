{
 "cells": [
  {
   "cell_type": "code",
   "execution_count": 1,
   "metadata": {
    "collapsed": true
   },
   "outputs": [],
   "source": [
    "import numpy as np\n",
    "from sklearn.utils import shuffle\n",
    "import os \n",
    "import pandas as pd\n",
    "import matplotlib.pyplot as plt\n",
    "%matplotlib inline"
   ]
  },
  {
   "cell_type": "code",
   "execution_count": 2,
   "metadata": {
    "collapsed": true
   },
   "outputs": [],
   "source": [
    "from gensim.models import Word2Vec"
   ]
  },
  {
   "cell_type": "code",
   "execution_count": 3,
   "metadata": {},
   "outputs": [
    {
     "data": {
      "text/plain": [
       "['.DS_Store',\n",
       " '.ipynb_checkpoints',\n",
       " 'cbow_w2v_model',\n",
       " 'copurchase_count.csv',\n",
       " 'count_copurchases.ipynb',\n",
       " 'customer_analysis.ipynb',\n",
       " 'exploratory_analysis.ipynb',\n",
       " 'hs_w2v_model',\n",
       " 'Instacart_product_embeddings.ipynb',\n",
       " 'order_products__prior.csv',\n",
       " 'order_products__prior.csv.zip',\n",
       " 'order_products__train.csv',\n",
       " 'order_products__train.csv.zip',\n",
       " 'orders.csv',\n",
       " 'orders.csv.zip',\n",
       " 'prior_orders_extended.csv',\n",
       " 'products.csv',\n",
       " 'products.csv.zip',\n",
       " 'shortwindow_w2v_model',\n",
       " 'Untitled.ipynb',\n",
       " 'user_product.csv']"
      ]
     },
     "execution_count": 3,
     "metadata": {},
     "output_type": "execute_result"
    }
   ],
   "source": [
    "os.listdir()"
   ]
  },
  {
   "cell_type": "markdown",
   "metadata": {},
   "source": [
    "### Product metadata"
   ]
  },
  {
   "cell_type": "code",
   "execution_count": 4,
   "metadata": {
    "collapsed": true
   },
   "outputs": [],
   "source": [
    "products = pd.read_csv('products.csv')"
   ]
  },
  {
   "cell_type": "code",
   "execution_count": 5,
   "metadata": {},
   "outputs": [
    {
     "data": {
      "text/html": [
       "<div>\n",
       "<style>\n",
       "    .dataframe thead tr:only-child th {\n",
       "        text-align: right;\n",
       "    }\n",
       "\n",
       "    .dataframe thead th {\n",
       "        text-align: left;\n",
       "    }\n",
       "\n",
       "    .dataframe tbody tr th {\n",
       "        vertical-align: top;\n",
       "    }\n",
       "</style>\n",
       "<table border=\"1\" class=\"dataframe\">\n",
       "  <thead>\n",
       "    <tr style=\"text-align: right;\">\n",
       "      <th></th>\n",
       "      <th>product_id</th>\n",
       "      <th>product_name</th>\n",
       "      <th>aisle_id</th>\n",
       "      <th>department_id</th>\n",
       "    </tr>\n",
       "  </thead>\n",
       "  <tbody>\n",
       "    <tr>\n",
       "      <th>0</th>\n",
       "      <td>1</td>\n",
       "      <td>Chocolate Sandwich Cookies</td>\n",
       "      <td>61</td>\n",
       "      <td>19</td>\n",
       "    </tr>\n",
       "    <tr>\n",
       "      <th>1</th>\n",
       "      <td>2</td>\n",
       "      <td>All-Seasons Salt</td>\n",
       "      <td>104</td>\n",
       "      <td>13</td>\n",
       "    </tr>\n",
       "    <tr>\n",
       "      <th>2</th>\n",
       "      <td>3</td>\n",
       "      <td>Robust Golden Unsweetened Oolong Tea</td>\n",
       "      <td>94</td>\n",
       "      <td>7</td>\n",
       "    </tr>\n",
       "    <tr>\n",
       "      <th>3</th>\n",
       "      <td>4</td>\n",
       "      <td>Smart Ones Classic Favorites Mini Rigatoni Wit...</td>\n",
       "      <td>38</td>\n",
       "      <td>1</td>\n",
       "    </tr>\n",
       "    <tr>\n",
       "      <th>4</th>\n",
       "      <td>5</td>\n",
       "      <td>Green Chile Anytime Sauce</td>\n",
       "      <td>5</td>\n",
       "      <td>13</td>\n",
       "    </tr>\n",
       "  </tbody>\n",
       "</table>\n",
       "</div>"
      ],
      "text/plain": [
       "   product_id                                       product_name  aisle_id  \\\n",
       "0           1                         Chocolate Sandwich Cookies        61   \n",
       "1           2                                   All-Seasons Salt       104   \n",
       "2           3               Robust Golden Unsweetened Oolong Tea        94   \n",
       "3           4  Smart Ones Classic Favorites Mini Rigatoni Wit...        38   \n",
       "4           5                          Green Chile Anytime Sauce         5   \n",
       "\n",
       "   department_id  \n",
       "0             19  \n",
       "1             13  \n",
       "2              7  \n",
       "3              1  \n",
       "4             13  "
      ]
     },
     "execution_count": 5,
     "metadata": {},
     "output_type": "execute_result"
    }
   ],
   "source": [
    "products.head()"
   ]
  },
  {
   "cell_type": "code",
   "execution_count": 6,
   "metadata": {
    "collapsed": true
   },
   "outputs": [],
   "source": [
    "prod_dict = products.set_index('product_id').T.to_dict()"
   ]
  },
  {
   "cell_type": "code",
   "execution_count": 7,
   "metadata": {},
   "outputs": [
    {
     "data": {
      "text/plain": [
       "{'aisle_id': 61,\n",
       " 'department_id': 19,\n",
       " 'product_name': 'Chocolate Sandwich Cookies'}"
      ]
     },
     "execution_count": 7,
     "metadata": {},
     "output_type": "execute_result"
    }
   ],
   "source": [
    "prod_dict[1]"
   ]
  },
  {
   "cell_type": "markdown",
   "metadata": {},
   "source": [
    "### Orders data\n",
    "\n",
    "-read in orders and create a list of products per order"
   ]
  },
  {
   "cell_type": "code",
   "execution_count": 8,
   "metadata": {
    "collapsed": true
   },
   "outputs": [],
   "source": [
    "lines = open('prior_orders_extended.csv').readlines()"
   ]
  },
  {
   "cell_type": "code",
   "execution_count": 9,
   "metadata": {},
   "outputs": [
    {
     "data": {
      "text/plain": [
       "['order_id,product_id,add_to_cart_order,reordered,user_id,order_number\\n',\n",
       " '2539329,196,1,0,1,1\\n',\n",
       " '2539329,14084,2,0,1,1\\n',\n",
       " '2539329,12427,3,0,1,1\\n']"
      ]
     },
     "execution_count": 9,
     "metadata": {},
     "output_type": "execute_result"
    }
   ],
   "source": [
    "lines[0:4]"
   ]
  },
  {
   "cell_type": "code",
   "execution_count": 10,
   "metadata": {
    "collapsed": true
   },
   "outputs": [],
   "source": [
    "orders_dict = {}\n",
    "orders_set = set()\n",
    "for line in lines[1:]:\n",
    "    order_i,prod_i,litm_nr,reorder,user_id,user_order_nr = line.strip().split(',')\n",
    "    if order_i in orders_set:\n",
    "        orders_dict[order_i].append(prod_i)\n",
    "    else:\n",
    "        orders_dict[order_i] = [prod_i]\n",
    "        orders_set.add(order_i)"
   ]
  },
  {
   "cell_type": "code",
   "execution_count": 11,
   "metadata": {},
   "outputs": [
    {
     "data": {
      "text/plain": [
       "['196', '14084', '12427', '26088', '26405']"
      ]
     },
     "execution_count": 11,
     "metadata": {},
     "output_type": "execute_result"
    }
   ],
   "source": [
    "orders_dict['2539329']"
   ]
  },
  {
   "cell_type": "code",
   "execution_count": 12,
   "metadata": {
    "collapsed": true
   },
   "outputs": [],
   "source": [
    "order_prods = list(orders_dict.values())"
   ]
  },
  {
   "cell_type": "code",
   "execution_count": 13,
   "metadata": {},
   "outputs": [
    {
     "data": {
      "text/plain": [
       "['196', '14084', '12427', '26088', '26405']"
      ]
     },
     "execution_count": 13,
     "metadata": {},
     "output_type": "execute_result"
    }
   ],
   "source": [
    "order_prods[0]"
   ]
  },
  {
   "cell_type": "code",
   "execution_count": 14,
   "metadata": {},
   "outputs": [
    {
     "data": {
      "text/plain": [
       "3214874"
      ]
     },
     "execution_count": 14,
     "metadata": {},
     "output_type": "execute_result"
    }
   ],
   "source": [
    "len(order_prods)"
   ]
  },
  {
   "cell_type": "code",
   "execution_count": 15,
   "metadata": {
    "collapsed": true
   },
   "outputs": [],
   "source": [
    "basket_size = []\n",
    "for order in order_prods:\n",
    "    basket_size.append(len(order))"
   ]
  },
  {
   "cell_type": "code",
   "execution_count": 16,
   "metadata": {},
   "outputs": [
    {
     "data": {
      "image/png": "[encoded data removed]",
      "text/plain": [
       "<matplotlib.figure.Figure at 0x28dde6b00>"
      ]
     },
     "metadata": {},
     "output_type": "display_data"
    }
   ],
   "source": [
    "plt.figure(figsize=[12,4])\n",
    "n, bins, patches = plt.hist(basket_size, 50, normed=1, facecolor='green', alpha=0.75)"
   ]
  },
  {
   "cell_type": "code",
   "execution_count": 17,
   "metadata": {},
   "outputs": [
    {
     "name": "stdout",
     "output_type": "stream",
     "text": [
      "145\n",
      "8.0\n",
      "10.088883421247614\n"
     ]
    }
   ],
   "source": [
    "print(np.max(basket_size))\n",
    "print(np.median(basket_size))\n",
    "print(np.mean(basket_size))"
   ]
  },
  {
   "cell_type": "markdown",
   "metadata": {},
   "source": [
    "### Fit word2vec model"
   ]
  },
  {
   "cell_type": "code",
   "execution_count": 18,
   "metadata": {
    "collapsed": true
   },
   "outputs": [],
   "source": [
    "cbow_model = Word2Vec(size=100, window=10, min_count=1, workers=8, sg=0, negative=7)"
   ]
  },
  {
   "cell_type": "code",
   "execution_count": 20,
   "metadata": {},
   "outputs": [
    {
     "data": {
      "text/plain": [
       "49677"
      ]
     },
     "execution_count": 20,
     "metadata": {},
     "output_type": "execute_result"
    }
   ],
   "source": [
    "cbow_model.build_vocab(order_prods)\n",
    "len(cbow_model.wv.vocab)"
   ]
  },
  {
   "cell_type": "code",
   "execution_count": 23,
   "metadata": {},
   "outputs": [
    {
     "name": "stdout",
     "output_type": "stream",
     "text": [
      "CPU times: user 1h 7min 23s, sys: 1min 9s, total: 1h 8min 32s\n",
      "Wall time: 23min 56s\n"
     ]
    },
    {
     "data": {
      "text/plain": [
       "935066205"
      ]
     },
     "execution_count": 23,
     "metadata": {},
     "output_type": "execute_result"
    }
   ],
   "source": [
    "%%time\n",
    "cbow_model.train(shuffle(order_prods),total_examples=cbow_model.corpus_count,epochs=30)"
   ]
  },
  {
   "cell_type": "code",
   "execution_count": 24,
   "metadata": {
    "collapsed": true
   },
   "outputs": [],
   "source": [
    "cbow_model.save(\"cbow_w2v_model\")"
   ]
  },
  {
   "cell_type": "markdown",
   "metadata": {},
   "source": [
    "#### Skipgram, 7 Negative samples, window size 50"
   ]
  },
  {
   "cell_type": "code",
   "execution_count": 28,
   "metadata": {
    "collapsed": true
   },
   "outputs": [],
   "source": [
    "w2v_model = Word2Vec(size=100, window=50, min_count=1, workers=8, sg=1, negative=7)"
   ]
  },
  {
   "cell_type": "code",
   "execution_count": 29,
   "metadata": {},
   "outputs": [
    {
     "data": {
      "text/plain": [
       "49677"
      ]
     },
     "execution_count": 29,
     "metadata": {},
     "output_type": "execute_result"
    }
   ],
   "source": [
    "w2v_model.build_vocab(order_prods)\n",
    "len(w2v_model.wv.vocab)"
   ]
  },
  {
   "cell_type": "code",
   "execution_count": 30,
   "metadata": {},
   "outputs": [
    {
     "name": "stdout",
     "output_type": "stream",
     "text": [
      "CPU times: user 1h 14min 54s, sys: 35.6 s, total: 1h 15min 29s\n",
      "Wall time: 19min 56s\n"
     ]
    },
    {
     "data": {
      "text/plain": [
       "155843741"
      ]
     },
     "execution_count": 30,
     "metadata": {},
     "output_type": "execute_result"
    }
   ],
   "source": [
    "%%time\n",
    "w2v_model.train(order_prods,total_examples=w2v_model.corpus_count,epochs=5)"
   ]
  },
  {
   "cell_type": "markdown",
   "metadata": {},
   "source": [
    "#### Try shorter window size\n",
    "Because the products are listed in order of add to cart, adjacent products may be more closely related"
   ]
  },
  {
   "cell_type": "code",
   "execution_count": 89,
   "metadata": {
    "collapsed": true
   },
   "outputs": [],
   "source": [
    "shortwindow_w2v_model = Word2Vec(size=100, window=5, min_count=1, workers=8, sg=1, negative=7)\n",
    "shortwindow_w2v_model.build_vocab(order_prods)"
   ]
  },
  {
   "cell_type": "code",
   "execution_count": 90,
   "metadata": {},
   "outputs": [
    {
     "name": "stdout",
     "output_type": "stream",
     "text": [
      "CPU times: user 30min 29s, sys: 9.51 s, total: 30min 38s\n",
      "Wall time: 8min 7s\n"
     ]
    },
    {
     "data": {
      "text/plain": [
       "155844221"
      ]
     },
     "execution_count": 90,
     "metadata": {},
     "output_type": "execute_result"
    }
   ],
   "source": [
    "%%time\n",
    "shortwindow_w2v_model.train(order_prods\n",
    "                            ,total_examples=shortwindow_w2v_model.corpus_count\n",
    "                            ,epochs=5)"
   ]
  },
  {
   "cell_type": "code",
   "execution_count": 147,
   "metadata": {
    "collapsed": true
   },
   "outputs": [],
   "source": [
    "shortwindow_w2v_model.save(\"shortwindow_w2v_model\")"
   ]
  },
  {
   "cell_type": "code",
   "execution_count": 58,
   "metadata": {
    "collapsed": true
   },
   "outputs": [],
   "source": [
    "shortwindow_w2v_model = Word2Vec.load(\"shortwindow_w2v_model\")"
   ]
  },
  {
   "cell_type": "markdown",
   "metadata": {},
   "source": [
    "#### Try hierarchical softmax instead of negative sampling"
   ]
  },
  {
   "cell_type": "code",
   "execution_count": 77,
   "metadata": {
    "collapsed": true
   },
   "outputs": [],
   "source": [
    "hs_w2v_model = Word2Vec(size=100, window=5, min_count=1, workers=8, sg=1, hs=1)\n",
    "hs_w2v_model.build_vocab(order_prods)"
   ]
  },
  {
   "cell_type": "code",
   "execution_count": 78,
   "metadata": {},
   "outputs": [
    {
     "name": "stdout",
     "output_type": "stream",
     "text": [
      "CPU times: user 4h 57min 12s, sys: 1min 12s, total: 4h 58min 25s\n",
      "Wall time: 1h 18min 51s\n"
     ]
    },
    {
     "data": {
      "text/plain": [
       "935065242"
      ]
     },
     "execution_count": 78,
     "metadata": {},
     "output_type": "execute_result"
    }
   ],
   "source": [
    "%%time\n",
    "hs_w2v_model.train(order_prods\n",
    "                    ,total_examples=hs_w2v_model.corpus_count\n",
    "                    ,epochs=30)"
   ]
  },
  {
   "cell_type": "code",
   "execution_count": 97,
   "metadata": {
    "collapsed": true
   },
   "outputs": [],
   "source": [
    "hs_w2v_model.save(\"hs_w2v_model\")"
   ]
  },
  {
   "cell_type": "code",
   "execution_count": 43,
   "metadata": {
    "collapsed": true
   },
   "outputs": [],
   "source": [
    "hs_w2v_model = Word2Vec.load(\"hs_w2v_model\")"
   ]
  },
  {
   "cell_type": "markdown",
   "metadata": {},
   "source": [
    "### Small CBOW model"
   ]
  },
  {
   "cell_type": "code",
   "execution_count": 17,
   "metadata": {
    "collapsed": true
   },
   "outputs": [],
   "source": [
    "small_cbow_model = Word2Vec(size=40, window=5, min_count=1, workers=8, sg=0, negative=7)"
   ]
  },
  {
   "cell_type": "code",
   "execution_count": 18,
   "metadata": {},
   "outputs": [
    {
     "data": {
      "text/plain": [
       "49677"
      ]
     },
     "execution_count": 18,
     "metadata": {},
     "output_type": "execute_result"
    }
   ],
   "source": [
    "small_cbow_model.build_vocab(order_prods)\n",
    "len(small_cbow_model.wv.vocab)"
   ]
  },
  {
   "cell_type": "code",
   "execution_count": 19,
   "metadata": {},
   "outputs": [
    {
     "name": "stdout",
     "output_type": "stream",
     "text": [
      "CPU times: user 44min 31s, sys: 23.8 s, total: 44min 55s\n",
      "Wall time: 18min 3s\n"
     ]
    },
    {
     "data": {
      "text/plain": [
       "935061610"
      ]
     },
     "execution_count": 19,
     "metadata": {},
     "output_type": "execute_result"
    }
   ],
   "source": [
    "%%time\n",
    "small_cbow_model.train(shuffle(order_prods)\n",
    "                       ,total_examples=small_cbow_model.corpus_count,epochs=30)"
   ]
  },
  {
   "cell_type": "code",
   "execution_count": 20,
   "metadata": {
    "collapsed": true
   },
   "outputs": [],
   "source": [
    "small_cbow_model.save(\"small_cbow_model\")"
   ]
  },
  {
   "cell_type": "markdown",
   "metadata": {},
   "source": [
    "### Explore product similarities"
   ]
  },
  {
   "cell_type": "code",
   "execution_count": 26,
   "metadata": {
    "collapsed": true
   },
   "outputs": [],
   "source": [
    "def rand_prod(n=1):\n",
    "    return str(np.random.choice(products['product_id'],n)[0])"
   ]
  },
  {
   "cell_type": "code",
   "execution_count": 27,
   "metadata": {
    "collapsed": true
   },
   "outputs": [],
   "source": [
    "def similar_products(query,model):\n",
    "    print(\"QUERY:\",query,prod_dict[int(query)]['product_name'])\n",
    "    psim = model.wv.most_similar(query)\n",
    "    for prod,sim in psim:\n",
    "        print(sim,prod,prod_dict[int(prod)]['product_name'])"
   ]
  },
  {
   "cell_type": "markdown",
   "metadata": {},
   "source": [
    "### cat litter"
   ]
  },
  {
   "cell_type": "code",
   "execution_count": 87,
   "metadata": {},
   "outputs": [
    {
     "name": "stdout",
     "output_type": "stream",
     "text": [
      "QUERY: 54 24/7 Performance Cat Litter\n",
      "0.8294212222099304 970 Salmon and Tuna Formula Dry Cat Food\n",
      "0.8195797204971313 19368 With Glade Tough Odor Solutions Cat Litter\n",
      "0.8148465156555176 49355 Instant Action Cat Litter\n",
      "0.8067525029182434 5889 Crunchy Tuna Flavor Cat Treats\n",
      "0.8008598685264587 48419 Gourmet Classic Collection Broths\n",
      "0.7996281385421753 30772 Party Mix Original Flavor Crunch Cat Treats\n",
      "0.7968029379844666 12905 Adult Indoor Advantage Cat Food\n",
      "0.7920937538146973 31426 Classic Poultry & Beef Feast Variety Cat Food\n",
      "0.7916611433029175 20355 Proactive Health Indoor Weight & Hairball Care with Chicken Cat Food\n",
      "0.7835731506347656 3618 Grilled Seafood Feast Variety Cat Food\n"
     ]
    }
   ],
   "source": [
    "similar_products(rand_prod(),w2v_model)"
   ]
  },
  {
   "cell_type": "code",
   "execution_count": 92,
   "metadata": {},
   "outputs": [
    {
     "name": "stdout",
     "output_type": "stream",
     "text": [
      "QUERY: 54 24/7 Performance Cat Litter\n",
      "0.8091874718666077 31426 Classic Poultry & Beef Feast Variety Cat Food\n",
      "0.807376503944397 3618 Grilled Seafood Feast Variety Cat Food\n",
      "0.8033312559127808 45120 One Sensitive Systems Adult Cat Food\n",
      "0.8026535511016846 49355 Instant Action Cat Litter\n",
      "0.8022720813751221 24605 Seafood Feast Variety Classic Wet Cat Food\n",
      "0.8013819456100464 30772 Party Mix Original Flavor Crunch Cat Treats\n",
      "0.7922881841659546 19368 With Glade Tough Odor Solutions Cat Litter\n",
      "0.7880860567092896 27793 Elegant Medleys Primavera Collection with Garden Greens Wet Cat Food\n",
      "0.787569522857666 30018 Prime Filets Turkey Dinner In Gravy\n",
      "0.7857449054718018 42555 Salmon & Tuna Flavor Cat Food\n"
     ]
    }
   ],
   "source": [
    "similar_products('54',shortwindow_w2v_model)"
   ]
  },
  {
   "cell_type": "code",
   "execution_count": 79,
   "metadata": {},
   "outputs": [
    {
     "name": "stdout",
     "output_type": "stream",
     "text": [
      "QUERY: 54 24/7 Performance Cat Litter\n",
      "0.8648022413253784 49355 Instant Action Cat Litter\n",
      "0.8631085157394409 19368 With Glade Tough Odor Solutions Cat Litter\n",
      "0.8598500490188599 37520 Indoor Cat Food\n",
      "0.8433530330657959 3618 Grilled Seafood Feast Variety Cat Food\n",
      "0.8370373845100403 12905 Adult Indoor Advantage Cat Food\n",
      "0.8338112831115723 35359 Original Choice Dry Cat Food\n",
      "0.8302446007728577 31426 Classic Poultry & Beef Feast Variety Cat Food\n",
      "0.8210101127624512 20355 Proactive Health Indoor Weight & Hairball Care with Chicken Cat Food\n",
      "0.8179881572723389 28757 Original Cat Chow Naturals Plus Vitamins & Minerals Cat Food\n",
      "0.7981996536254883 40403 Fancy Feast Seafood Feast Variety Classic Wet Cat Food\n"
     ]
    }
   ],
   "source": [
    "similar_products('54',hs_w2v_model)"
   ]
  },
  {
   "cell_type": "code",
   "execution_count": 28,
   "metadata": {},
   "outputs": [
    {
     "name": "stdout",
     "output_type": "stream",
     "text": [
      "QUERY: 54 24/7 Performance Cat Litter\n",
      "0.7704987525939941 49355 Instant Action Cat Litter\n",
      "0.7483741044998169 3618 Grilled Seafood Feast Variety Cat Food\n",
      "0.7209925651550293 19368 With Glade Tough Odor Solutions Cat Litter\n",
      "0.7073407173156738 39161 Florentine Collection Cat Food\n",
      "0.6912372708320618 970 Salmon and Tuna Formula Dry Cat Food\n",
      "0.6900243163108826 37520 Indoor Cat Food\n",
      "0.6831868290901184 31426 Classic Poultry & Beef Feast Variety Cat Food\n",
      "0.6735385060310364 20355 Proactive Health Indoor Weight & Hairball Care with Chicken Cat Food\n",
      "0.6713665723800659 28757 Original Cat Chow Naturals Plus Vitamins & Minerals Cat Food\n",
      "0.6673320531845093 35359 Original Choice Dry Cat Food\n"
     ]
    }
   ],
   "source": [
    "similar_products('54',cbow_model)"
   ]
  },
  {
   "cell_type": "markdown",
   "metadata": {},
   "source": [
    "#### Sensitive whitening"
   ]
  },
  {
   "cell_type": "code",
   "execution_count": 94,
   "metadata": {},
   "outputs": [
    {
     "name": "stdout",
     "output_type": "stream",
     "text": [
      "QUERY: 8603 Sensitive Whitening\n",
      "0.8084108829498291 8492 Original Regular To Go Unscented Pantiliners\n",
      "0.8083120584487915 29560 Sleek & Shine Fortifying Shampoo\n",
      "0.7989720702171326 32322 Shine Anti-Frizz Serum For Frizzy, Dry, Unmanageable Hair\n",
      "0.7976929545402527 2654 Fusion ProGlide Sensitive 2 in 1 Shave Gel Alpine Clean\n",
      "0.7973901033401489 31308 Kids Toothbrush Multipack\n",
      "0.7944557666778564 12737 Soft Full Head Toothbrush\n",
      "0.7939316034317017 37087 Volume Triple Action Mousse, Maximum Hold\n",
      "0.7939003705978394 5219 Ninja Turtles Kids Power Toothbrush Extra Soft\n",
      "0.7933982014656067 819 Totality Multi-Symptom Relief\n",
      "0.7921473383903503 15027 Cuticle Rehab\n"
     ]
    }
   ],
   "source": [
    "similar_products('8603',w2v_model)"
   ]
  },
  {
   "cell_type": "code",
   "execution_count": 93,
   "metadata": {},
   "outputs": [
    {
     "name": "stdout",
     "output_type": "stream",
     "text": [
      "QUERY: 8603 Sensitive Whitening\n",
      "0.8850874304771423 16000 Deep Clean Body and Face Bar\n",
      "0.8781979084014893 21816 Daily Pantiliners\n",
      "0.8757397532463074 24163 Venus Embrace Women's Razor Refills\n",
      "0.8757051229476929 11349 Ultra Blue Sparkle Liquid Fabric Softener\n",
      "0.8651639223098755 37960 Extended Moisture Body Lotion\n",
      "0.8642542362213135 13046 WetJet with Dawn Twin Pack Cleaner Solution Refill\n",
      "0.8614408373832703 25292 Venus Snap with Embrace Women's Razor with 1 Razor Refill in 1 Compact\n",
      "0.8612900376319885 43683 Voluminous Original Mascara - Blackest Black 310\n",
      "0.85877525806427 31220 Outlast Antiperspirant/Deodorant Clear Gel Unscented\n",
      "0.858672022819519 41310 Original Skin Protectant/Sunscreen SPF 15 Moisturizer\n"
     ]
    }
   ],
   "source": [
    "similar_products(rand_prod(),shortwindow_w2v_model)"
   ]
  },
  {
   "cell_type": "code",
   "execution_count": 81,
   "metadata": {},
   "outputs": [
    {
     "name": "stdout",
     "output_type": "stream",
     "text": [
      "QUERY: 8603 Sensitive Whitening\n",
      "0.7184264659881592 33392 Ultra Moisture Body Wash With Shea Butter\n",
      "0.7147479057312012 9656 Triple Clean Mint Floss Picks\n",
      "0.7084474563598633 3586 Total Whitening Toothpaste\n",
      "0.7057940363883972 14136 Whitening Plus Scope Crest Complete Whitening + Scope Multi-Benefit Minty Fresh Striped Toothpaste 12.4oz Twin Pack  Dentifrice\n",
      "0.7051243185997009 16594 Indicator Contour Clean Soft Toothbrush\n",
      "0.7038821578025818 541 with Dawn Action Pacs Fresh Scent Dishwasher Detergent Pacs\n",
      "0.6989682912826538 27442 Oil-Free Eye Makeup Remover Cleansing\n",
      "0.695196807384491 28386 Pearl Plastic Triple Pack Includes Light, Regular, and Super  Unscented Tampons\n",
      "0.6935348510742188 5696 Soothing Aloe Vera Liquid Hand Soap Refill\n",
      "0.6900642514228821 20728 Fast Absorbing Body and Face Lotion\n"
     ]
    }
   ],
   "source": [
    "similar_products('8603',hs_w2v_model)"
   ]
  },
  {
   "cell_type": "code",
   "execution_count": 29,
   "metadata": {},
   "outputs": [
    {
     "name": "stdout",
     "output_type": "stream",
     "text": [
      "QUERY: 8603 Sensitive Whitening\n",
      "0.738315224647522 28564 UltraClear Invisible Solid Pure Clean Anti-Perspirant & Deodorant\n",
      "0.7152639627456665 17566 Daily Moisturizing Body Wash\n",
      "0.7087687253952026 34268 Simply Sensitive Cleansing Wash\n",
      "0.7084836363792419 45218 Destinations Invisible Solid Paris Romantic Rose Deodorant & Body Spray\n",
      "0.7015469670295715 1317 Calming Comfort Baby Lotion\n",
      "0.7003030776977539 30404 Extra Whitening Sensitivity Protection Toothpaste Twin Pack\n",
      "0.6991150379180908 11349 Ultra Blue Sparkle Liquid Fabric Softener\n",
      "0.6987699270248413 3586 Total Whitening Toothpaste\n",
      "0.6966581344604492 37960 Extended Moisture Body Lotion\n",
      "0.6947885751724243 48324 Maximum Strength Intensive Healing Anti-Itch Crème\n"
     ]
    }
   ],
   "source": [
    "similar_products('8603',cbow_model)"
   ]
  },
  {
   "cell_type": "markdown",
   "metadata": {},
   "source": [
    "#### Worcestershire"
   ]
  },
  {
   "cell_type": "code",
   "execution_count": 95,
   "metadata": {},
   "outputs": [
    {
     "name": "stdout",
     "output_type": "stream",
     "text": [
      "QUERY: 27352 Classic Worcestershire Sauce\n",
      "0.8056290149688721 18350 Boneless Chuck Roast\n",
      "0.8011547327041626 15617 Season Bay Leaves Whole .20 Oz\n",
      "0.7986457347869873 4453 Duck Sauce\n",
      "0.79637610912323 14367 Cloves\n",
      "0.7876713871955872 5604 Idaho Potatoes\n",
      "0.7837342619895935 37813 Hot Madras Curry Powder\n",
      "0.7829760313034058 17106 Chef's Naturals Pecan Halves\n",
      "0.7786781787872314 26108 Chilli Powder\n",
      "0.7758258581161499 30813 99% Fat Free Beef Broth\n",
      "0.7739967107772827 14972 Square 8 Inch Cake Pans\n"
     ]
    }
   ],
   "source": [
    "similar_products(rand_prod(),w2v_model)"
   ]
  },
  {
   "cell_type": "code",
   "execution_count": 96,
   "metadata": {},
   "outputs": [
    {
     "name": "stdout",
     "output_type": "stream",
     "text": [
      "QUERY: 27352 Classic Worcestershire Sauce\n",
      "0.8903824687004089 15617 Season Bay Leaves Whole .20 Oz\n",
      "0.8868159055709839 14507 Original Slaw Dressing\n",
      "0.8854316473007202 39516 Onion Salt\n",
      "0.8831251263618469 5604 Idaho Potatoes\n",
      "0.8820998072624207 3427 All Natural Seasoning Kick'N Chicken\n",
      "0.8796403408050537 30153 Peeled & De-veined Key West Pink Shrimp\n",
      "0.8774046897888184 18554 Garlic, Minced\n",
      "0.8746100664138794 3726 Freeze-Dried Chives\n",
      "0.872573733329773 26108 Chilli Powder\n",
      "0.871950626373291 41478 Big Bowl Reusable Containers\n"
     ]
    }
   ],
   "source": [
    "similar_products('27352',shortwindow_w2v_model)"
   ]
  },
  {
   "cell_type": "code",
   "execution_count": 82,
   "metadata": {},
   "outputs": [
    {
     "name": "stdout",
     "output_type": "stream",
     "text": [
      "QUERY: 27352 Classic Worcestershire Sauce\n",
      "0.6994431614875793 16890 Slow Cookers Savory Pot Roast Seasoning Mix\n",
      "0.693492591381073 5604 Idaho Potatoes\n",
      "0.6647616624832153 4976 Hot Banana Pepper Rings\n",
      "0.6593236923217773 44398 Fancy Shredded Colby Jack Cheese\n",
      "0.6495853662490845 19823 Cabbage\n",
      "0.6490005254745483 1897 Yukon Gold Potatoes Bag\n",
      "0.6482913494110107 44072 Beef Cooking Stock\n",
      "0.6423463821411133 14941 Home Style Savory Beef Gravy\n",
      "0.6422106027603149 41958 Thyme Leaves\n",
      "0.6416406631469727 3689 Beef Broth\n"
     ]
    }
   ],
   "source": [
    "similar_products('27352',hs_w2v_model)"
   ]
  },
  {
   "cell_type": "code",
   "execution_count": 30,
   "metadata": {},
   "outputs": [
    {
     "name": "stdout",
     "output_type": "stream",
     "text": [
      "QUERY: 27352 Classic Worcestershire Sauce\n",
      "0.6668035387992859 3427 All Natural Seasoning Kick'N Chicken\n",
      "0.660359263420105 21064 Healthy Request Cream of Celery Condensed Soup\n",
      "0.6577662229537964 1905 Worcestershire Sauce\n",
      "0.6430639624595642 34630 Beef Eye Round Roast\n",
      "0.6343475580215454 7472 100% Pure Olive Oil\n",
      "0.6310278177261353 45258 Parsley Flakes\n",
      "0.6294339299201965 4976 Hot Banana Pepper Rings\n",
      "0.6262075901031494 37813 Hot Madras Curry Powder\n",
      "0.6253413558006287 41062 All Purpose Flour, Bleached\n",
      "0.6234691143035889 18350 Boneless Chuck Roast\n"
     ]
    }
   ],
   "source": [
    "similar_products('27352',cbow_model)"
   ]
  },
  {
   "cell_type": "markdown",
   "metadata": {},
   "source": [
    "#### grater"
   ]
  },
  {
   "cell_type": "code",
   "execution_count": 97,
   "metadata": {},
   "outputs": [
    {
     "name": "stdout",
     "output_type": "stream",
     "text": [
      "QUERY: 10622 Plastic Frame Grater\n",
      "0.8708240389823914 13771 Pitted Medium Ripe Olives\n",
      "0.8605568408966064 17285 Honey Im Strong Conditioner\n",
      "0.8557800650596619 29002 Deep Roaster Pan\n",
      "0.851958155632019 44348 Whipped Topping\n",
      "0.8506990671157837 44846 Confetti Birthday Candle\n",
      "0.8491764068603516 47821 Yams, Cut Sweet Potatoes in Syrup\n",
      "0.848597526550293 39573 Egg Noodles\n",
      "0.845028281211853 45352 Stainless Steel Grater\n",
      "0.8443853855133057 15854 Thpst P/H Cln Gum Inv Cl\n",
      "0.8438189029693604 36240 Corer Peeler\n"
     ]
    }
   ],
   "source": [
    "similar_products(rand_prod(),w2v_model)"
   ]
  },
  {
   "cell_type": "code",
   "execution_count": 98,
   "metadata": {},
   "outputs": [
    {
     "name": "stdout",
     "output_type": "stream",
     "text": [
      "QUERY: 10622 Plastic Frame Grater\n",
      "0.9179924130439758 45352 Stainless Steel Grater\n",
      "0.916487991809845 35703 Pastry/Basting Brush\n",
      "0.9130823612213135 22510 Instant Read Thermometer\n",
      "0.9130620360374451 1949 Amish Blue Cheese Wedge\n",
      "0.9087669849395752 47483 Masher\n",
      "0.9081535339355469 30153 Peeled & De-veined Key West Pink Shrimp\n",
      "0.9033550024032593 33226 Applewood Rub\n",
      "0.9031089544296265 45758 Cheese, Romano\n",
      "0.9021131992340088 912 Mushroom Stems & Pieces in Water\n",
      "0.9019138216972351 17818 3.75 Inches Skewers\n"
     ]
    }
   ],
   "source": [
    "similar_products('10622',shortwindow_w2v_model)"
   ]
  },
  {
   "cell_type": "code",
   "execution_count": 83,
   "metadata": {},
   "outputs": [
    {
     "name": "stdout",
     "output_type": "stream",
     "text": [
      "QUERY: 10622 Plastic Frame Grater\n",
      "0.634727418422699 25679 Grated Cheese Parmesan\n",
      "0.625576376914978 42081 Low Moisture Part Skim Mozzarella Cheese\n",
      "0.6245229244232178 47518 Finely Shredded Natural Parmesan Cheese\n",
      "0.6240074634552002 42423 Cheese Shredded Mozzarella Low Moisture Part Skim\n",
      "0.6215813159942627 9454 Goat Cheese\n",
      "0.6169717311859131 1541 Jumbo Grade A Eggs\n",
      "0.6095632910728455 5915 Romano Cheese Wedge\n",
      "0.6040744781494141 28511 Whipping Cream Ultra Pasteurized\n",
      "0.599197268486023 1934 Cheese Shredded Mozzarella Reduced Fat 2%\n",
      "0.5928974747657776 41486 100% Pure Vegetable Oil\n"
     ]
    }
   ],
   "source": [
    "similar_products('10622',hs_w2v_model)"
   ]
  },
  {
   "cell_type": "code",
   "execution_count": 33,
   "metadata": {},
   "outputs": [
    {
     "name": "stdout",
     "output_type": "stream",
     "text": [
      "QUERY: 10622 Plastic Frame Grater\n",
      "0.6362559199333191 42081 Low Moisture Part Skim Mozzarella Cheese\n",
      "0.6201533079147339 17818 3.75 Inches Skewers\n",
      "0.6060699820518494 31947 Shredded Natural Parmesan-Romano and Asiago Cheese Shaker\n",
      "0.5988805890083313 29332 Combination Padlock\n",
      "0.5983797311782837 21354 Turner\n",
      "0.5978841781616211 29002 Deep Roaster Pan\n",
      "0.5942680835723877 27556 Eco Foil Poultry Pans\n",
      "0.5942333936691284 43479 Quart Freezer Reclosable Bags\n",
      "0.5932685732841492 38645 Five Cheese Pizza Self Rising Crust\n",
      "0.5930272936820984 5915 Romano Cheese Wedge\n"
     ]
    }
   ],
   "source": [
    "similar_products('10622',cbow_model)"
   ]
  },
  {
   "cell_type": "code",
   "execution_count": null,
   "metadata": {
    "collapsed": true
   },
   "outputs": [],
   "source": []
  },
  {
   "cell_type": "code",
   "execution_count": 116,
   "metadata": {},
   "outputs": [
    {
     "name": "stdout",
     "output_type": "stream",
     "text": [
      "QUERY: 43716 Fat Free & Lower Sodium Beef Broth\n",
      "0.9085972905158997 45214 Seasoning, without Annatto, Econo Pak\n",
      "0.9029172658920288 35500 Sassy Creamy Horseradish Sauce\n",
      "0.9012452960014343 36657 Sesame Garlic Sauce & Glaze\n",
      "0.9006545543670654 28513 Liquid Hand Soap With Aloe Vera\n",
      "0.8964859247207642 45726 Kosher Whole Wheat Penne Ziti Rigate Pasta\n",
      "0.8953323364257812 47840 Lightly Dried Chives\n",
      "0.8944796919822693 41410 Bouillon, Powdered, Chicken Flavored, Econo Pak\n",
      "0.8913446068763733 33570 American Jazmine Rice\n",
      "0.890838623046875 16724 Lite Creamy Ranch Dressing + Dip\n",
      "0.8886902928352356 27518 Spanish Stuffed Queen Olives with Minced Pimientos\n"
     ]
    }
   ],
   "source": [
    "similar_products('43716',shortwindow_w2v_model)"
   ]
  },
  {
   "cell_type": "code",
   "execution_count": 85,
   "metadata": {},
   "outputs": [
    {
     "name": "stdout",
     "output_type": "stream",
     "text": [
      "QUERY: 43716 Fat Free & Lower Sodium Beef Broth\n",
      "0.5622630715370178 45883 Egg Noodles Extra Broad\n",
      "0.5489224195480347 37786 Pure Butter Chocolate Chip Shortbread\n",
      "0.5468040704727173 20439 All Natural Almond Slices\n",
      "0.5344844460487366 19823 Cabbage\n",
      "0.5337159633636475 49381 Zucchini Squash\n",
      "0.5337097644805908 19917 Complete™ ActionPacs™  Lemon Burst Dishwasher Detergent\n",
      "0.5229257345199585 10743 Fat Free & Lower Sodium Chicken Broth\n",
      "0.5199362635612488 48962 Hardwood Smoked Sliced Bacon\n",
      "0.5139973163604736 45512 Mild Flavor Celery Hearts\n",
      "0.5136370658874512 45576 Russet Potato Bag\n"
     ]
    }
   ],
   "source": [
    "similar_products('43716',hs_w2v_model)"
   ]
  },
  {
   "cell_type": "code",
   "execution_count": 32,
   "metadata": {},
   "outputs": [
    {
     "name": "stdout",
     "output_type": "stream",
     "text": [
      "QUERY: 43716 Fat Free & Lower Sodium Beef Broth\n",
      "0.5856178402900696 32317 Medium Grain Polenta\n",
      "0.5704953670501709 9306 Noodles, Organic, Udon, Traditional\n",
      "0.5635271072387695 20805 Pasteurized Crab Meat\n",
      "0.5311375856399536 45512 Mild Flavor Celery Hearts\n",
      "0.5278668999671936 3015 Stewed Tomatoes Italian Recipe\n",
      "0.5263533592224121 10767 Stock-in-a-Box All Natural Chicken Stock\n",
      "0.5247472524642944 21359 Regular Instant Irish Oatmeal\n",
      "0.5238707065582275 13903 Baby Peas\n",
      "0.5209335088729858 11259 2% Low-fat Cottage Cheese\n",
      "0.5146529078483582 2321 Orange Halo\n"
     ]
    }
   ],
   "source": [
    "similar_products('43716',cbow_model)"
   ]
  },
  {
   "cell_type": "code",
   "execution_count": null,
   "metadata": {
    "collapsed": true
   },
   "outputs": [],
   "source": []
  },
  {
   "cell_type": "code",
   "execution_count": 86,
   "metadata": {},
   "outputs": [
    {
     "name": "stdout",
     "output_type": "stream",
     "text": [
      "QUERY: 430 Born Yesterday Pale Ale\n",
      "0.8056119680404663 2083 Lux German Style Lager\n",
      "0.789583683013916 12527 Sidecar Orange Pale Ale\n",
      "0.7841295003890991 23335 Piercing Pils\n",
      "0.7616162300109863 27840 Icelandic White Ale 6 Pack\n",
      "0.7538843154907227 40987 Citrus Gose Lager\n",
      "0.7494218349456787 14302 Westfalia Red Ale\n",
      "0.7482132911682129 31081 Ale, India Pale, Brew Free! Or Die IPA\n",
      "0.7475150227546692 14725 Obsidian Stout\n",
      "0.7453224062919617 33448 Strawberry Blonde\n",
      "0.7424229383468628 960 Villager Ipa\n"
     ]
    }
   ],
   "source": [
    "similar_products('430',hs_w2v_model)"
   ]
  },
  {
   "cell_type": "code",
   "execution_count": 145,
   "metadata": {},
   "outputs": [
    {
     "name": "stdout",
     "output_type": "stream",
     "text": [
      "QUERY: 430 Born Yesterday Pale Ale\n",
      "0.9444119930267334 23335 Piercing Pils\n",
      "0.9359492659568787 2083 Lux German Style Lager\n",
      "0.9265404343605042 43353 Big Leaf Maple Summer Beer\n",
      "0.9243641495704651 42120 Grapefruit Radler Can\n",
      "0.9214556217193604 44469 Kalifornia Kolsch\n",
      "0.915550708770752 47906 Hefeweizen Beer\n",
      "0.913158655166626 35910 Porter\n",
      "0.910198450088501 43615 Black Lager\n",
      "0.9047936797142029 40506 Pop Gun Pilsner\n",
      "0.9039969444274902 37819 Otis Oatmeal Stout Beer\n"
     ]
    }
   ],
   "source": [
    "similar_products('430',w2v_model)"
   ]
  },
  {
   "cell_type": "code",
   "execution_count": 31,
   "metadata": {},
   "outputs": [
    {
     "name": "stdout",
     "output_type": "stream",
     "text": [
      "QUERY: 430 Born Yesterday Pale Ale\n",
      "0.8405945301055908 14302 Westfalia Red Ale\n",
      "0.8175256252288818 960 Villager Ipa\n",
      "0.8024168014526367 27840 Icelandic White Ale 6 Pack\n",
      "0.7949762344360352 39184 Down To Earth IPA\n",
      "0.781197190284729 16449 Original Irish Cider\n",
      "0.7784907817840576 26670 Mighty Dry Hard Cider\n",
      "0.7745863199234009 4530 Fortunate Islands\n",
      "0.7730331420898438 34579 Cotes Du Rhone Blanc\n",
      "0.771461009979248 14974 Ksa Ko?Lsch Style Ale\n",
      "0.7673152685165405 13581 Pranqster Belgian Style Golden Ale\n"
     ]
    }
   ],
   "source": [
    "similar_products('430',cbow_model)"
   ]
  },
  {
   "cell_type": "code",
   "execution_count": null,
   "metadata": {
    "collapsed": true
   },
   "outputs": [],
   "source": []
  },
  {
   "cell_type": "code",
   "execution_count": 96,
   "metadata": {},
   "outputs": [
    {
     "name": "stdout",
     "output_type": "stream",
     "text": [
      "QUERY: 600 Thick & Zesty Spaghetti Sauce Mix\n",
      "0.7580593824386597 2232 Old World Style Meat Flavored Pasta Sauce\n",
      "0.7475171685218811 8260 Flavored with Meat Italian Sauce\n",
      "0.7315140962600708 1247 Sloppy Joes Seasoning Mix\n",
      "0.7252470850944519 43568 Traditional Italian Sauce\n",
      "0.7063793540000916 1176 Garlic Texas Toast\n",
      "0.704038679599762 34887 Chunky Tomato Garlic & Onion Pasta Sauce\n",
      "0.7036259770393372 45290 Thin Spaghetti Pasta\n",
      "0.6909818649291992 14505 Old World Style Organic Traditional Pasta Sauce\n",
      "0.6885471940040588 6281 Chunky Garden Combination Pasta Sauce\n",
      "0.6878663897514343 35372 Italian Sausage and Garlic Meat Sauce\n"
     ]
    }
   ],
   "source": [
    "similar_products(rand_prod(),hs_w2v_model)"
   ]
  },
  {
   "cell_type": "code",
   "execution_count": null,
   "metadata": {
    "collapsed": true
   },
   "outputs": [],
   "source": []
  },
  {
   "cell_type": "code",
   "execution_count": null,
   "metadata": {
    "collapsed": true
   },
   "outputs": [],
   "source": []
  }
 ],
 "metadata": {
  "kernelspec": {
   "display_name": "Python 3",
   "language": "python",
   "name": "python3"
  },
  "language_info": {
   "codemirror_mode": {
    "name": "ipython",
    "version": 3
   },
   "file_extension": ".py",
   "mimetype": "text/x-python",
   "name": "python",
   "nbconvert_exporter": "python",
   "pygments_lexer": "ipython3",
   "version": "3.6.1"
  }
 },
 "nbformat": 4,
 "nbformat_minor": 2
}
